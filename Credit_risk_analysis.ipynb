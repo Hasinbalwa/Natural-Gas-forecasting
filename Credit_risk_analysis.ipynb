{
  "nbformat": 4,
  "nbformat_minor": 0,
  "metadata": {
    "colab": {
      "provenance": [],
      "authorship_tag": "ABX9TyNHQkCLvKxU44y/V3nt9ECR",
      "include_colab_link": true
    },
    "kernelspec": {
      "name": "python3",
      "display_name": "Python 3"
    },
    "language_info": {
      "name": "python"
    }
  },
  "cells": [
    {
      "cell_type": "markdown",
      "metadata": {
        "id": "view-in-github",
        "colab_type": "text"
      },
      "source": [
        "<a href=\"https://colab.research.google.com/github/Hasinbalwa/Natural-Gas-forecasting/blob/main/Credit_risk_analysis.ipynb\" target=\"_parent\"><img src=\"https://colab.research.google.com/assets/colab-badge.svg\" alt=\"Open In Colab\"/></a>"
      ]
    },
    {
      "cell_type": "code",
      "execution_count": null,
      "metadata": {
        "colab": {
          "base_uri": "https://localhost:8080/"
        },
        "id": "PHRAd77QDMHj",
        "outputId": "24abfbd2-58a9-4b58-98d5-de10b303b862"
      },
      "outputs": [
        {
          "output_type": "stream",
          "name": "stderr",
          "text": [
            "/usr/local/lib/python3.11/dist-packages/sklearn/linear_model/_logistic.py:465: ConvergenceWarning: lbfgs failed to converge (status=1):\n",
            "STOP: TOTAL NO. of ITERATIONS REACHED LIMIT.\n",
            "\n",
            "Increase the number of iterations (max_iter) or scale the data as shown in:\n",
            "    https://scikit-learn.org/stable/modules/preprocessing.html\n",
            "Please also refer to the documentation for alternative solver options:\n",
            "    https://scikit-learn.org/stable/modules/linear_model.html#logistic-regression\n",
            "  n_iter_i = _check_optimize_result(\n"
          ]
        },
        {
          "output_type": "stream",
          "name": "stdout",
          "text": [
            "Comparative Analysis of Models:\n",
            "\n",
            "Model: Logistic Regression\n",
            "Accuracy: 0.9860\n",
            "ROC-AUC: 0.9985\n",
            "Expected Loss (First 5 Cases): [2.08275963e-06 5.09618069e-01 9.00000000e-01 1.26180124e-04\n",
            " 4.15859689e-05]\n",
            "Classification Report:\n",
            "{'0': {'precision': 0.9885679903730445, 'recall': 0.9945520581113801, 'f1-score': 0.9915509957754979, 'support': 1652.0}, '1': {'precision': 0.9733727810650887, 'recall': 0.9454022988505747, 'f1-score': 0.9591836734693877, 'support': 348.0}, 'accuracy': 0.986, 'macro avg': {'precision': 0.9809703857190666, 'recall': 0.9699771784809774, 'f1-score': 0.9753673346224427, 'support': 2000.0}, 'weighted avg': {'precision': 0.9859240239534602, 'recall': 0.986, 'f1-score': 0.9859190816942347, 'support': 2000.0}}\n",
            "\n",
            "Model: Decision Tree\n",
            "Accuracy: 0.9945\n",
            "ROC-AUC: 0.9899\n",
            "Expected Loss (First 5 Cases): [0.  0.  0.9 0.  0. ]\n",
            "Classification Report:\n",
            "{'0': {'precision': 0.9963702359346642, 'recall': 0.9969733656174334, 'f1-score': 0.9966717095310136, 'support': 1652.0}, '1': {'precision': 0.9855907780979827, 'recall': 0.9827586206896551, 'f1-score': 0.9841726618705036, 'support': 348.0}, 'accuracy': 0.9945, 'macro avg': {'precision': 0.9909805070163235, 'recall': 0.9898659931535443, 'f1-score': 0.9904221857007586, 'support': 2000.0}, 'weighted avg': {'precision': 0.9944946102710817, 'recall': 0.9945, 'f1-score': 0.9944968752380848, 'support': 2000.0}}\n",
            "\n",
            "Model: Random Forest\n",
            "Accuracy: 0.9955\n",
            "ROC-AUC: 0.9997\n",
            "Expected Loss (First 5 Cases): [0.    0.144 0.9   0.    0.   ]\n",
            "Classification Report:\n",
            "{'0': {'precision': 0.995775497887749, 'recall': 0.9987893462469734, 'f1-score': 0.9972801450589301, 'support': 1652.0}, '1': {'precision': 0.9941690962099126, 'recall': 0.9798850574712644, 'f1-score': 0.9869753979739508, 'support': 348.0}, 'accuracy': 0.9955, 'macro avg': {'precision': 0.9949722970488308, 'recall': 0.9893372018591189, 'f1-score': 0.9921277715164405, 'support': 2000.0}, 'weighted avg': {'precision': 0.9954959839958054, 'recall': 0.9955, 'f1-score': 0.9954871190661437, 'support': 2000.0}}\n",
            "\n",
            "Model: Gradient Boosting\n",
            "Accuracy: 0.9960\n",
            "ROC-AUC: 0.9998\n",
            "Expected Loss (First 5 Cases): [2.12131848e-04 3.11378705e-02 8.99236322e-01 2.80357004e-04\n",
            " 2.27202409e-04]\n",
            "Classification Report:\n",
            "{'0': {'precision': 0.9963768115942029, 'recall': 0.9987893462469734, 'f1-score': 0.9975816203143894, 'support': 1652.0}, '1': {'precision': 0.9941860465116279, 'recall': 0.9827586206896551, 'f1-score': 0.9884393063583815, 'support': 348.0}, 'accuracy': 0.996, 'macro avg': {'precision': 0.9952814290529154, 'recall': 0.9907739834683142, 'f1-score': 0.9930104633363854, 'support': 2000.0}, 'weighted avg': {'precision': 0.9959956184698349, 'recall': 0.996, 'f1-score': 0.995990857686044, 'support': 2000.0}}\n",
            "\n",
            "Model: Support Vector Machine\n",
            "Accuracy: 0.8260\n",
            "ROC-AUC: 0.9922\n",
            "Expected Loss (First 5 Cases): [0.00372144 0.8566264  0.9        0.00094835 0.03006381]\n",
            "Classification Report:\n",
            "{'0': {'precision': 0.826, 'recall': 1.0, 'f1-score': 0.904709748083242, 'support': 1652.0}, '1': {'precision': 0.0, 'recall': 0.0, 'f1-score': 0.0, 'support': 348.0}, 'accuracy': 0.826, 'macro avg': {'precision': 0.413, 'recall': 0.5, 'f1-score': 0.452354874041621, 'support': 2000.0}, 'weighted avg': {'precision': 0.682276, 'recall': 0.826, 'f1-score': 0.7472902519167579, 'support': 2000.0}}\n"
          ]
        },
        {
          "output_type": "stream",
          "name": "stderr",
          "text": [
            "/usr/local/lib/python3.11/dist-packages/sklearn/metrics/_classification.py:1565: UndefinedMetricWarning: Precision is ill-defined and being set to 0.0 in labels with no predicted samples. Use `zero_division` parameter to control this behavior.\n",
            "  _warn_prf(average, modifier, f\"{metric.capitalize()} is\", len(result))\n",
            "/usr/local/lib/python3.11/dist-packages/sklearn/metrics/_classification.py:1565: UndefinedMetricWarning: Precision is ill-defined and being set to 0.0 in labels with no predicted samples. Use `zero_division` parameter to control this behavior.\n",
            "  _warn_prf(average, modifier, f\"{metric.capitalize()} is\", len(result))\n",
            "/usr/local/lib/python3.11/dist-packages/sklearn/metrics/_classification.py:1565: UndefinedMetricWarning: Precision is ill-defined and being set to 0.0 in labels with no predicted samples. Use `zero_division` parameter to control this behavior.\n",
            "  _warn_prf(average, modifier, f\"{metric.capitalize()} is\", len(result))\n"
          ]
        }
      ],
      "source": [
        "import pandas as pd\n",
        "from sklearn.model_selection import train_test_split\n",
        "from sklearn.linear_model import LogisticRegression\n",
        "from sklearn.tree import DecisionTreeClassifier\n",
        "from sklearn.ensemble import RandomForestClassifier, GradientBoostingClassifier\n",
        "from sklearn.svm import SVC\n",
        "from sklearn.metrics import classification_report, accuracy_score, roc_auc_score\n",
        "\n",
        "# Load the data (assuming it's in a CSV format)\n",
        "data = pd.read_csv('/content/Task 3 and 4_Loan_Data.csv')\n",
        "\n",
        "# Preprocess the data (e.g., fill missing values, encode categorical variables)\n",
        "X = data.drop(columns=['default'])  # Features\n",
        "y = data['default']  # Target variable (default)\n",
        "\n",
        "# Split the data into training and testing sets\n",
        "X_train, X_test, y_train, y_test = train_test_split(X, y, test_size=0.2, random_state=42)\n",
        "\n",
        "# Models to evaluate\n",
        "models = {\n",
        "    'Logistic Regression': LogisticRegression(),\n",
        "    'Decision Tree': DecisionTreeClassifier(),\n",
        "    'Random Forest': RandomForestClassifier(),\n",
        "    'Gradient Boosting': GradientBoostingClassifier(),\n",
        "    'Support Vector Machine': SVC(probability=True)  # SVM with probability estimates\n",
        "}\n",
        "\n",
        "# Store evaluation results\n",
        "model_results = {}\n",
        "\n",
        "for name, model in models.items():\n",
        "    # Train the model\n",
        "    model.fit(X_train, y_train)\n",
        "\n",
        "    # Predict probabilities for the test set\n",
        "    y_pred = model.predict(X_test)\n",
        "    y_pred_prob = model.predict_proba(X_test)[:, 1]  # Probability of default (PD)\n",
        "\n",
        "    # Calculate performance metrics\n",
        "    accuracy = accuracy_score(y_test, y_pred)\n",
        "    roc_auc = roc_auc_score(y_test, y_pred_prob)\n",
        "    report = classification_report(y_test, y_pred, output_dict=True)\n",
        "\n",
        "    # Calculate expected loss\n",
        "    recovery_rate = 0.10\n",
        "    expected_loss = 0.9 * y_pred_prob  # Expected loss formula\n",
        "\n",
        "    # Store results\n",
        "    model_results[name] = {\n",
        "        'Accuracy': accuracy,\n",
        "        'ROC-AUC': roc_auc,\n",
        "        'Expected Loss (First 5 Cases)': expected_loss[:5],\n",
        "        'Classification Report': report\n",
        "    }\n",
        "\n",
        "# Print comparative analysis\n",
        "print(\"Comparative Analysis of Models:\")\n",
        "for model_name, result in model_results.items():\n",
        "    print(f\"\\nModel: {model_name}\")\n",
        "    print(f\"Accuracy: {result['Accuracy']:.4f}\")\n",
        "    print(f\"ROC-AUC: {result['ROC-AUC']:.4f}\")\n",
        "    print(\"Expected Loss (First 5 Cases):\", result['Expected Loss (First 5 Cases)'])\n",
        "    print(\"Classification Report:\")\n",
        "    print(result['Classification Report'])\n"
      ]
    },
    {
      "cell_type": "code",
      "source": [
        "from sklearn.linear_model import LogisticRegression\n",
        "\n",
        "from sklearn import metrics\n",
        "\n",
        "import numpy as np\n",
        "\n",
        "import pandas as pd\n",
        "\n",
        "\n",
        "# Read in loan data from a CSV file\n",
        "\n",
        "df = pd.read_csv('/content/Task 3 and 4_Loan_Data.csv')\n",
        "\n",
        "\n",
        "# Define the variable features\n",
        "\n",
        "features = ['credit_lines_outstanding', 'debt_to_income', 'payment_to_income', 'years_employed', 'fico_score']\n",
        "\n",
        "\n",
        "# Calculate the payment_to_income ratio\n",
        "\n",
        "df['payment_to_income'] = df['loan_amt_outstanding'] / df['income']\n",
        "\n",
        "\n",
        "# Calculate the debt_to_income ratio\n",
        "\n",
        "df['debt_to_income'] = df['total_debt_outstanding'] / df['income']\n",
        "\n",
        "\n",
        "clf = LogisticRegression(random_state=0, solver='liblinear', tol=1e-5, max_iter=10000).fit(df[features], df['default'])\n",
        "\n",
        "print(clf.coef_, clf.intercept_)\n",
        "\n",
        "\n"
      ],
      "metadata": {
        "colab": {
          "base_uri": "https://localhost:8080/"
        },
        "id": "akwpsVcnmWOm",
        "outputId": "2b610ef1-15eb-4eb8-e23a-07f434157cca"
      },
      "execution_count": null,
      "outputs": [
        {
          "output_type": "stream",
          "name": "stdout",
          "text": [
            "[[ 8.18520373  0.54490854  0.01994244 -2.77630853 -0.02418391]] [-0.09162643]\n"
          ]
        }
      ]
    }
  ]
}