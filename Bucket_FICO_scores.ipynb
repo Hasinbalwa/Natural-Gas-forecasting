{
  "nbformat": 4,
  "nbformat_minor": 0,
  "metadata": {
    "colab": {
      "provenance": [],
      "authorship_tag": "ABX9TyPLeTBUaOensY9ft+UoXWif",
      "include_colab_link": true
    },
    "kernelspec": {
      "name": "python3",
      "display_name": "Python 3"
    },
    "language_info": {
      "name": "python"
    }
  },
  "cells": [
    {
      "cell_type": "markdown",
      "metadata": {
        "id": "view-in-github",
        "colab_type": "text"
      },
      "source": [
        "<a href=\"https://colab.research.google.com/github/Hasinbalwa/Natural-Gas-forecasting/blob/main/Bucket_FICO_scores.ipynb\" target=\"_parent\"><img src=\"https://colab.research.google.com/assets/colab-badge.svg\" alt=\"Open In Colab\"/></a>"
      ]
    },
    {
      "cell_type": "code",
      "execution_count": null,
      "metadata": {
        "colab": {
          "base_uri": "https://localhost:8080/"
        },
        "id": "7cKZnlPm_Efg",
        "outputId": "8cd06906-72a1-4a5a-a488-26afdac3ba62"
      },
      "outputs": [
        {
          "output_type": "stream",
          "name": "stdout",
          "text": [
            "10000 10000\n",
            "-4217.8245\n",
            "[850, 753, 752, 732, 696, 649, 611, 580, 552, 520, 300]\n"
          ]
        }
      ],
      "source": [
        "import pandas as pd\n",
        "\n",
        "from math import log\n",
        "\n",
        "df = pd.read_csv('/content/Task 3 and 4_Loan_Data (1).csv')\n",
        "\n",
        "\n",
        "x = df['default'].to_list()\n",
        "\n",
        "y = df['fico_score'].to_list()\n",
        "\n",
        "n = len(x)\n",
        "\n",
        "print (len(x), len(y))\n",
        "\n",
        "\n",
        "default = [0 for i in range(851)]\n",
        "\n",
        "total = [0 for i in range(851)]\n",
        "\n",
        "\n",
        "for i in range(n):\n",
        "    # The following lines were not indented, causing the error\n",
        "    y[i] = int(y[i])\n",
        "    default[y[i]-300] += x[i]\n",
        "    total[y[i]-300] += 1\n",
        "\n",
        "\n",
        "for i in range(0, 551):\n",
        "    # The following lines were not indented, causing the error\n",
        "    default[i] += default[i-1]\n",
        "    total[i] += total[i-1]\n",
        "\n",
        "\n",
        "import numpy as np\n",
        "\n",
        "\n",
        "def log_likelihood(n, k):\n",
        "\n",
        "    p = k/n\n",
        "\n",
        "    if (p==0 or p==1):\n",
        "\n",
        "        return 0\n",
        "\n",
        "    return k*np.log(p)+ (n-k)*np.log(1-p)\n",
        "\n",
        "\n",
        "r = 10\n",
        "\n",
        "dp = [[[-10**18, 0] for i in range(551)] for j in range(r+1)]\n",
        "\n",
        "\n",
        "for i in range(r+1):\n",
        "\n",
        "    for j in range(551):\n",
        "\n",
        "        if (i==0):\n",
        "\n",
        "            dp[i][j][0] = 0\n",
        "\n",
        "        else:\n",
        "\n",
        "            for k in range(j):\n",
        "\n",
        "                if (total[j]==total[k]):\n",
        "\n",
        "                    continue\n",
        "\n",
        "                if (i==1):\n",
        "\n",
        "                    dp[i][j][0] = log_likelihood(total[j], default[j])\n",
        "\n",
        "                else:\n",
        "\n",
        "                    if (dp[i][j][0] < (dp[i-1][k][0] + log_likelihood(total[j]-total[k], default[j] - default[k]))):\n",
        "\n",
        "                        dp[i][j][0] = log_likelihood(total[j]-total[k], default[j]-default[k]) + dp[i-1][k][0]\n",
        "\n",
        "                        dp[i][j][1] = k\n",
        "\n",
        "\n",
        "print (round(dp[r][550][0], 4))\n",
        "\n",
        "\n",
        "k = 550\n",
        "\n",
        "l = []\n",
        "\n",
        "while r >= 0:\n",
        "\n",
        "    l.append(k+300)\n",
        "\n",
        "    k = dp[r][k][1]\n",
        "\n",
        "    r -= 1\n",
        "\n",
        "\n",
        "print(l)"
      ]
    }
  ]
}